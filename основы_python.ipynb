{
  "cells": [
    {
      "cell_type": "markdown",
      "metadata": {
        "id": "M-DGa20PaHnu"
      },
      "source": [
        "#Задача 1\n",
        "Написать функцию на вход которой подается строка, состоящая из латинских букв.\n",
        "Функция должна вернуть количество гласных букв (a, e, i, o, u) в этой строке. Написать тесты для кода"
      ]
    },
    {
      "cell_type": "code",
      "execution_count": null,
      "metadata": {
        "id": "XvX8X_JJ6PCb"
      },
      "outputs": [],
      "source": [
        "def count_vowels(text):\n",
        "    \"\"\"\n",
        "    Подсчитывает количество гласных (a, e, i, o, u) в строке.\n",
        "\n",
        "    Args:\n",
        "        text: Строка для анализа.\n",
        "\n",
        "    Returns:\n",
        "        Количество гласных в строке, или сообщение об ошибке, если входные данные некорректны.\n",
        "    \"\"\"\n",
        "    if not isinstance(text, str):\n",
        "        return 'Некорректные данные'\n",
        "    \n",
        "    vowel_count = 0\n",
        "    vowels = \"aeiou\"\n",
        "    for char in text.lower():  # приводим строку к нижнему регистру для избежания ошибок\n",
        "        if char in vowels:\n",
        "            vowel_count += 1\n",
        "    return vowel_count\n",
        "\n",
        "# Тесты\n",
        "print(count_vowels(\"AEIOU\"), 5)\n",
        "print(count_vowels(\"euo\"), 3)\n",
        "print(count_vowels(\"udofudofa\"), 5)\n",
        "print(count_vowels(123), 'Некорректные данные')\n",
        "print(count_vowels(True), 'Некорректные данные')"
      ]
    },
    {
      "cell_type": "markdown",
      "metadata": {
        "id": "t2ClV_Y0bbr6"
      },
      "source": [
        "# Задача 2\n",
        "Написать функцию на вход, которой подается строка. Функция должна вернуть true, если\n",
        "каждый символ в строке встречается только 1 раз, иначе должна вернуть false. Написать тесты для кода"
      ]
    },
    {
      "cell_type": "code",
      "execution_count": null,
      "metadata": {
        "id": "FppbECao6VIz"
      },
      "outputs": [],
      "source": [
        "def has_unique_chars(text):\n",
        "    if not isinstance(text, str):\n",
        "        return \"Некорректные данные\"\n",
        "\n",
        "    char_set = set()\n",
        "    for char in text:\n",
        "        if char in char_set:\n",
        "           return False\n",
        "        char_set.add(char)\n",
        "    \n",
        "    return True\n",
        "\n",
        "print(has_unique_chars(\"hello\"), False)\n",
        "print(has_unique_chars(\"programming\"), False)\n",
        "print(has_unique_chars(\"12345\"), True)\n",
        "print(has_unique_chars(123), 'Некорректные данные')\n",
        "print(has_unique_chars(True), 'Некорректные данные')\n"
      ]
    },
    {
      "cell_type": "markdown",
      "metadata": {
        "id": "udRiIK1cdt6E"
      },
      "source": [
        "# Задача 3\n",
        "Написать функцию, которая принимает положительное число и возвращает количество\n",
        "бит равных 1 в этом числе. Написать тесты для кода"
      ]
    },
    {
      "cell_type": "code",
      "execution_count": null,
      "metadata": {
        "id": "6tkfDJRz6dp_"
      },
      "outputs": [],
      "source": [
        "def count_set_bits(number):\n",
        "    if not isinstance(number, int):\n",
        "        return 'Некорректные данные'\n",
        "    \n",
        "    count = 0\n",
        "    while number > 0:\n",
        "        count += number & 1\n",
        "        number >>= 1\n",
        "    return count\n",
        "\n",
        "print(count_set_bits(15), 4)\n",
        "print(count_set_bits(31), 5)\n",
        "print(count_set_bits(63), 6)\n",
        "print(count_set_bits(128), 1)\n",
        "print(count_set_bits('abc'), 'Некорректные данные')\n",
        "print(count_set_bits(True), 'Некорректные данные')"
      ]
    },
    {
      "cell_type": "markdown",
      "metadata": {
        "id": "26dDUz-Ae17N"
      },
      "source": [
        "# Задача 4\n",
        "Написать функцию, которая принимает положительное число. Функция должна вернуть то,\n",
        "сколько раз необходимо перемножать цифры числа или результат перемножения, чтобы\n",
        "получилось число состоящее из одной цифры.\n",
        "Например, для входного числа:\n",
        "· 39 функция должна вернуть 3, так как 3*9=27 => 2*7=14 => 1*4=4\n",
        "· 4 функция должна вернуть 0, так как число уже состоит из одной цифры\n",
        "· 999 функция должна вернуть 4, так как 9*9*9=729 => 7*2*9=126 => 1*2*6=12 =>\n",
        "1*2=2. Написать тесты для кода"
      ]
    },
    {
      "cell_type": "code",
      "execution_count": null,
      "metadata": {
        "id": "BH1A_Mgi6i4G"
      },
      "outputs": [],
      "source": [
        "def magic(number):\n",
        "    if number < 0:\n",
        "        raise ValueError(\"Входное число должно быть неотрицательным.\")\n",
        "    \n",
        "    if number < 10:\n",
        "        return 0\n",
        "    \n",
        "    steps = 0\n",
        "    while number >= 10:\n",
        "        product = 1\n",
        "        for digit in str(number):\n",
        "            product *= int(digit)\n",
        "        number = product\n",
        "        steps += 1\n",
        "    return steps\n",
        "\n",
        "# Тесты\n",
        "print(magic(39), 3)\n",
        "print(magic(4), 0)\n",
        "print(magic(999), 4)\n",
        "print(magic(1000), 3)\n",
        "print(magic(234), 2)\n",
        "print(magic(1),0)\n",
        "print(magic(10),1)"
      ]
    },
    {
      "cell_type": "markdown",
      "metadata": {
        "id": "0nS-kIa8g8vd"
      },
      "source": [
        "# Задача 5\n",
        "Написать функцию, которая принимает два целочисленных вектора одинаковой длины и\n",
        "возвращает среднеквадратическое отклонение двух векторов. Написать тесты для кода"
      ]
    },
    {
      "cell_type": "code",
      "execution_count": null,
      "metadata": {
        "id": "8iphx4LM6xbx"
      },
      "outputs": [],
      "source": [
        "def mse(pred, true):\n",
        "    if len(pred) != len(true):\n",
        "        return \"Вектора разной длины\"\n",
        "    return round((sum((p - t) ** 2 for p, t in zip(pred, true)) / len(pred))**0.5, 2)\n",
        "\n",
        "print(mse([1, 2, 3], [1, 2, 3]), 0.0)\n",
        "print(mse([1, 2, 3], [4, 5, 6]), 3.0)\n",
        "print(mse([1, 2, 3], [2, 3, 4]), 1.0)\n",
        "print(mse([1, 2, 3], [3, 2, 1]), 1.0)\n",
        "print(mse([1, 5, 2, 8], [3, 6, 1, 9]), 2.24)\n",
        "print(mse([2, 4], [1, 3]), 1.41)\n",
        "print(mse([0, 0], [1, 1]), 1.0)\n",
        "print(mse([5], [10]), 5.0)\n",
        "print(mse([1, 2], [1, 2, 3]), \"Вектора разной длины\")\n",
        "print(mse([], []), 0.0)\n",
        "print(mse([-1, -2, -3], [-2, -3, -4]), 1.0)\n",
        "print(mse([1.5, 2.5], [2.5, 3.5]), 1.0)"
      ]
    },
    {
      "cell_type": "markdown",
      "metadata": {
        "id": "vpIPKL439zkw"
      },
      "source": [
        "# Задача 6\n",
        "Написать функцию, принимающая целое положительное число. Функция должна вернуть\n",
        "строку вида “(n1**p1)(n2**p2)…(nk**pk)” представляющая разложение числа на простые\n",
        "множители (если pi == 1, то выводить только ni).\n",
        "Например, для числа 86240 функция должна вернуть “(2**5)(5)(7**2)(11)”. Написать тесты для кода"
      ]
    },
    {
      "cell_type": "code",
      "execution_count": null,
      "metadata": {
        "id": "pFebmcZk94Jw"
      },
      "outputs": [],
      "source": [
        "def prime_factorization(number):\n",
        "    if not isinstance(number, int):\n",
        "        return 'Входные данные должны быть целым числом'\n",
        "\n",
        "    if number <= 0:\n",
        "        return 'Число не положительное'\n",
        "    \n",
        "    if number == 1:\n",
        "        return '(1)'\n",
        "\n",
        "    factors = {}\n",
        "    divisor = 2\n",
        "    while number > 1:\n",
        "        while number % divisor == 0:\n",
        "            factors[divisor] = factors.get(divisor, 0) + 1\n",
        "            number //= divisor\n",
        "        divisor += 1\n",
        "\n",
        "    result = []\n",
        "    for prime, exponent in factors.items():\n",
        "        if exponent > 1:\n",
        "            result.append(f\"({prime}**{exponent})\")\n",
        "        else:\n",
        "            result.append(f\"({prime})\")\n",
        "    \n",
        "    return \"\".join(result)\n",
        "\n",
        "# Тесты\n",
        "print(prime_factorization(12),'(2**2)(3)')\n",
        "print(prime_factorization(100),'(2**2)(5**2)')\n",
        "print(prime_factorization(7),'(7)')\n",
        "print(prime_factorization(1),'(1)')\n",
        "print(prime_factorization(36),'(2**2)(3**2)')\n",
        "print(prime_factorization(17),'(17)')\n",
        "print(prime_factorization(256),'(2**8)')\n",
        "print(prime_factorization(1024),'(2**10)')\n",
        "print(prime_factorization(0),'Число не положительное')\n",
        "print(prime_factorization(-5),'Число не положительное')\n",
        "print(prime_factorization(3.14), 'Входные данные должны быть целым числом')\n",
        "print(prime_factorization(\"abc\"), 'Входные данные должны быть целым числом')"
      ]
    },
    {
      "cell_type": "markdown",
      "metadata": {
        "id": "ps2s0BudX7A2"
      },
      "source": [
        "# Задача 7\n",
        "Написать функцию, принимающая целое число n, задающее количество кубиков. Функция\n",
        "должна определить, можно ли из данного кол-ва кубиков построить пирамиду, то есть\n",
        "можно ли представить число n как 1^2+2^2+3^2+…+k^2. Если можно, то функция должна\n",
        "вернуть k, иначе строку “It is impossible”. Написать тесты для кода"
      ]
    },
    {
      "cell_type": "code",
      "execution_count": null,
      "metadata": {
        "id": "3YPjEXxhX_YT"
      },
      "outputs": [],
      "source": [
        "def pyramid(number):\n",
        "    if not isinstance(number, int):\n",
        "        return \"Входные данные должны быть целым числом\"\n",
        "\n",
        "    if number < 1:\n",
        "        return \"It is impossible\"\n",
        "\n",
        "    level = 0\n",
        "    current_sum = 0\n",
        "    while current_sum < number:\n",
        "        level += 1\n",
        "        current_sum += level * level\n",
        "\n",
        "    if current_sum == number:\n",
        "        return level\n",
        "    else:\n",
        "        return \"It is impossible\"\n",
        "\n",
        "# Тесты\n",
        "print(pyramid(1), 1)\n",
        "print(pyramid(5), \"It is impossible\")\n",
        "print(pyramid(14), \"It is impossible\")\n",
        "print(pyramid(30), 4)\n",
        "print(pyramid(0), \"It is impossible\")\n",
        "print(pyramid(-5), \"It is impossible\")\n",
        "print(pyramid(3.14), \"Входные данные должны быть целым числом\")\n",
        "print(pyramid(\"abc\"), \"Входные данные должны быть целым числом\")"
      ]
    },
    {
      "cell_type": "markdown",
      "metadata": {
        "id": "KeKgmIdAQMEJ"
      },
      "source": [
        "# Задача 8\n",
        "Функция принимает на вход положительное число и определяет является ли оно сбалансированным, т.е. сумма цифр до средних равна сумме цифр после. Средними в случае нечетного числа цифр считать одну цифру, в случае четного - две средних. Написать тесты для кода"
      ]
    },
    {
      "cell_type": "code",
      "execution_count": null,
      "metadata": {
        "id": "gMAAqtqlQrZt"
      },
      "outputs": [],
      "source": [
        "def is_balanced_number(number):\n",
        "    if not isinstance(number, int):\n",
        "        return \"Входные данные должны быть целым числом\"\n",
        "\n",
        "    if number <= 0:\n",
        "        return \"Число не положительное\"\n",
        "\n",
        "    num_str = str(number)\n",
        "    length = len(num_str)\n",
        "    midpoint = length // 2\n",
        "\n",
        "    if length % 2 == 0:\n",
        "        left_sum = sum(int(digit) for digit in num_str[:midpoint])\n",
        "        right_sum = sum(int(digit) for digit in num_str[midpoint:])\n",
        "    else:\n",
        "        left_sum = sum(int(digit) for digit in num_str[:midpoint])\n",
        "        right_sum = sum(int(digit) for digit in num_str[midpoint + 1:])\n",
        "\n",
        "    return left_sum == right_sum\n",
        "\n",
        "\n",
        "# Тесты\n",
        "print(is_balanced_number(12321),True)\n",
        "print(is_balanced_number(1234), False)\n",
        "print(is_balanced_number(12322), False)\n",
        "print(is_balanced_number(11),True)\n",
        "print(is_balanced_number(1233),True)\n",
        "print(is_balanced_number(123),False)\n",
        "print(is_balanced_number(1),True)\n",
        "print(is_balanced_number(0),'Число не положительное')\n",
        "print(is_balanced_number(-5),'Число не положительное')\n",
        "print(is_balanced_number(3.14), 'Входные данные должны быть целым числом')\n",
        "print(is_balanced_number(\"abc\"), 'Входные данные должны быть целым числом')"
      ]
    }
  ],
  "metadata": {
    "colab": {
      "provenance": []
    },
    "kernelspec": {
      "display_name": "Python 3",
      "name": "python3"
    },
    "language_info": {
      "name": "python"
    }
  },
  "nbformat": 4,
  "nbformat_minor": 0
}
