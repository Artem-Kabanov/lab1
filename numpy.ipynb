{
  "cells": [
    {
      "cell_type": "markdown",
      "metadata": {
        "id": "vC84e9kzyxPy"
      },
      "source": [
        "<h1>Импорт библиотек"
      ]
    },
    {
      "cell_type": "code",
      "execution_count": 3,
      "metadata": {
        "id": "cgKeNegmQG5S"
      },
      "outputs": [],
      "source": [
        "import numpy as np\n",
        "import matplotlib.pyplot as plt"
      ]
    },
    {
      "cell_type": "markdown",
      "metadata": {
        "id": "qFM9uVU2x4Ls"
      },
      "source": [
        "<h1>Задача 1. Дан набор из $p$ матриц размерностью $(n, n)$ и $p$ векторов размерностью $(n, 1)$, найти сумму произведений матриц на векторы. Написать тесты для кода"
      ]
    },
    {
      "cell_type": "code",
      "execution_count": null,
      "metadata": {
        "id": "IAbUvEiYyWFF"
      },
      "outputs": [],
      "source": [
        "import numpy as np\n",
        "\n",
        "def sum_prod(X, V):\n",
        "    if not isinstance(X, list) or not isinstance(V, list):\n",
        "        raise TypeError(\"Оба аргумента должны быть списками.\")\n",
        "\n",
        "    if len(X) != len(V):\n",
        "        raise ValueError(\"Списки матриц и векторов должны иметь одинаковую длину.\")\n",
        "\n",
        "    if not X:\n",
        "      return np.array([])\n",
        "\n",
        "    n = X[0].shape[0]\n",
        "    result_vector = np.zeros((n, 1))\n",
        "\n",
        "\n",
        "    for matrix, vector in zip(X, V):\n",
        "      if not isinstance(matrix, np.ndarray) or not isinstance(vector, np.ndarray):\n",
        "        raise TypeError(\"Элементы списков должны быть массивами numpy\")\n",
        "      if matrix.shape != (n, n):\n",
        "          raise ValueError(f\"Матрица имеет неправильную форму {matrix.shape}, должна быть {(n,n)}.\")\n",
        "      if vector.shape != (n, 1):\n",
        "          raise ValueError(f\"Вектор имеет неправильную форму {vector.shape}, должна быть {(n,1)}.\")\n",
        "      result_vector += np.dot(matrix, vector)\n",
        "    return result_vector\n",
        "\n",
        "    # тесты\n",
        "\n",
        "X3 = [np.array([[1, 1], [1, 1]]), np.array([[2, 2], [2, 2]])]\n",
        "V3 = [np.array([[1], [0]]), np.array([[0], [1]])]\n",
        "print(sum_prod(X3, V3), np.array([[2], [2]]))\n",
        "\n",
        "X2 = [np.array([[1, 0], [0, 1]]), np.array([[2, 0], [0, 2]])]\n",
        "V2 = [np.array([[2], [2]]), np.array([[3], [3]])]\n",
        "print(sum_prod(X2, V2), np.array([[10], [10]]))\n",
        "\n",
        "X1 = [np.array([[1, 2], [3, 4]]), np.array([[5, 6], [7, 8]])]\n",
        "V1 = [np.array([[1], [1]]), np.array([[1], [1]])]\n",
        "print(sum_prod(X1, V1), np.array([[14], [22]]))\n"
      ]
    },
    {
      "cell_type": "markdown",
      "metadata": {
        "id": "TKwPG4fIy2w4"
      },
      "source": [
        "<h1>Задача 2. Дана матрица M, напишите функцию, которая бинаризует матрицу по некоторому threshold (то есть, все значения большие threshold становятся равными 1, иначе 0). Напишите тесты для кода"
      ]
    },
    {
      "cell_type": "code",
      "execution_count": null,
      "metadata": {
        "id": "KQDNMgsjRNH7"
      },
      "outputs": [],
      "source": [
        "def binarize(M, threshold):\n",
        "    return(M > threshold).astype(int)\n",
        "\n",
        "M1 = np.array([[0.5, 1.2], [2.3, 0.7]])\n",
        "threshold1 = 0.5\n",
        "print(binarize(M1, threshold1), np.array([[0, 1], [1, 1]]))\n",
        "\n",
        "M2 = np.array([[1, 2, 3], [4, 5, 6], [7, 8, 9]])\n",
        "threshold2 = 5\n",
        "print(binarize(M2, threshold2), np.array([[0, 0, 0], [0, 0, 1], [1, 1, 1]]))\n",
        "\n",
        "M3 = np.array([[0, 0, 0], [0, 0, 0]])\n",
        "threshold3 = 0\n",
        "print(binarize(M3, threshold3), np.array([[0, 0, 0], [0, 0, 0]]))\n",
        "\n",
        "M4 = np.array([[-1, -2, -3], [-4, -5, -6]])\n",
        "threshold4 = -3\n",
        "print(binarize(M4, threshold4), np.array([[0, 0, 0], [0, 0, 0]]))\n"
      ]
    },
    {
      "cell_type": "markdown",
      "metadata": {
        "id": "IY5L-h-7zWhN"
      },
      "source": [
        "<h1>Задача 3. Напишите функцию, которая возвращает уникальные элементы из каждой строки матрицы. Напишите такую же функцию, но для столбцов. Напишите тесты для кода"
      ]
    },
    {
      "cell_type": "code",
      "execution_count": null,
      "metadata": {
        "id": "-8dEZhR0SBC-"
      },
      "outputs": [],
      "source": [
        "from collections import Counter\n",
        "import numpy as np\n",
        "\n",
        "def find_unique_elements_in_rows(matrix):\n",
        "    if not isinstance(matrix, list) and not isinstance(matrix, np.ndarray):\n",
        "        raise TypeError(\"Входные данные должны быть списком или массивом numpy.\")\n",
        "    \n",
        "    unique_elements_per_row = []\n",
        "    for row in matrix:\n",
        "        if not isinstance(row, list) and not isinstance(row, np.ndarray):\n",
        "            raise TypeError(\"Строки должны быть списками или массивами numpy.\")\n",
        "        element_counts = Counter(row)\n",
        "        unique_elements = [element for element, count in element_counts.items() if count == 1]\n",
        "        unique_elements_per_row.append(unique_elements)\n",
        "    return unique_elements_per_row\n",
        "\n",
        "def find_unique_elements_in_columns(matrix):\n",
        "    if not isinstance(matrix, list) and not isinstance(matrix, np.ndarray):\n",
        "          raise TypeError(\"Входные данные должны быть списком или массивом numpy.\")\n",
        "    \n",
        "    if not matrix:\n",
        "        return []\n",
        "    \n",
        "    if isinstance(matrix, np.ndarray):\n",
        "        transposed_matrix = matrix.T\n",
        "    else:\n",
        "         transposed_matrix = list(zip(*matrix))\n",
        "        \n",
        "    unique_elements_per_column = []\n",
        "    for column in transposed_matrix:\n",
        "         if not isinstance(column, list) and not isinstance(column, np.ndarray):\n",
        "            raise TypeError(\"Столбцы должны быть списками или массивами numpy.\")\n",
        "         element_counts = Counter(column)\n",
        "         unique_elements = [element for element, count in element_counts.items() if count == 1]\n",
        "         unique_elements_per_column.append(unique_elements)\n",
        "    return unique_elements_per_column\n",
        "\n",
        "# Тесты\n",
        "matrix1 = [[1, 2, 2, 3], [4, 5, 5, 6], [7, 8, 9, 9]]\n",
        "print(find_unique_elements_in_rows(matrix1), [[1, 3], [4, 6], [7, 8]])\n",
        "print(find_unique_elements_in_columns(matrix1), [[1, 4, 7], [2, 5, 8], [3, 6]])\n",
        "\n",
        "matrix2 = [[1, 2, 3], [1, 2, 3], [1, 2, 3]]\n",
        "print(find_unique_elements_in_rows(matrix2), [[], [], []])\n",
        "print(find_unique_elements_in_columns(matrix2), [[], [], []])\n",
        "\n",
        "matrix3 = [[1, 2, 3], [4, 5, 6], [7, 8, 9]]\n",
        "print(find_unique_elements_in_rows(matrix3), [[1, 2, 3], [4, 5, 6], [7, 8, 9]])\n",
        "print(find_unique_elements_in_columns(matrix3), [[1, 4, 7], [2, 5, 8], [3, 6, 9]])\n"
      ]
    },
    {
      "cell_type": "markdown",
      "metadata": {
        "id": "roYAlo4Jz-lH"
      },
      "source": [
        "<h1>Задача 4. Напишите функцию, которая заполняет матрицу с размерами $(m, n)$ случайными числами, распределенными по нормальному закону. Затем считает мат. ожидание и дисперсию для каждого из столбцов и строк, а также строит для каждой строки и столбца гистограмму значений (использовать функцию hist из модуля matplotlib.plot)"
      ]
    },
    {
      "cell_type": "code",
      "execution_count": null,
      "metadata": {
        "id": "nZK_71hMSQzv"
      },
      "outputs": [],
      "source": [
        "import numpy as np\n",
        "import matplotlib.pyplot as plt\n",
        "\n",
        "def analyze_matrix_stats(rows, cols):\n",
        "    if not isinstance(rows, int) or not isinstance(cols, int):\n",
        "         raise TypeError(\"Количество строк и столбцов должны быть целыми числами.\")\n",
        "\n",
        "    if rows <= 0 or cols <= 0:\n",
        "        raise ValueError(\"Количество строк и столбцов должны быть положительными числами.\")\n",
        "\n",
        "    matrix = np.random.normal(loc=0, scale=1, size=(rows, cols))\n",
        "\n",
        "    row_means = np.mean(matrix, axis=1)\n",
        "    row_variances = np.var(matrix, axis=1)\n",
        "    col_means = np.mean(matrix, axis=0)\n",
        "    col_variances = np.var(matrix, axis=0)\n",
        "\n",
        "    plt.figure(figsize=(12, 8))\n",
        "\n",
        "    plt.subplot(2, 2, 1)\n",
        "    plt.hist(row_means, bins=10, color='skyblue', alpha=0.7)\n",
        "    plt.title('Mean of Rows')\n",
        "    plt.xlabel('Mean Value')\n",
        "    plt.ylabel('Frequency')\n",
        "\n",
        "    plt.subplot(2, 2, 2)\n",
        "    plt.hist(row_variances, bins=10, color='lightcoral', alpha=0.7)\n",
        "    plt.title('Variance of Rows')\n",
        "    plt.xlabel('Variance Value')\n",
        "    plt.ylabel('Frequency')\n",
        "\n",
        "    plt.subplot(2, 2, 3)\n",
        "    plt.hist(col_means, bins=10, color='lightgreen', alpha=0.7)\n",
        "    plt.title('Mean of Columns')\n",
        "    plt.xlabel('Mean Value')\n",
        "    plt.ylabel('Frequency')\n",
        "\n",
        "    plt.subplot(2, 2, 4)\n",
        "    plt.hist(col_variances, bins=10, color='lightsalmon', alpha=0.7)\n",
        "    plt.title('Variance of Columns')\n",
        "    plt.xlabel('Variance Value')\n",
        "    plt.ylabel('Frequency')\n",
        "\n",
        "    plt.tight_layout()\n",
        "    plt.show()\n",
        "\n",
        "# Тесты\n",
        "analyze_matrix_stats(5, 5)\n",
        "analyze_matrix_stats(10, 20)\n",
        "analyze_matrix_stats(1, 1)"
      ]
    },
    {
      "cell_type": "markdown",
      "metadata": {
        "id": "BDyATNdM0dJ2"
      },
      "source": [
        "<h1>Задача 5. Напишите функцию, которая заполняет матрицу $(m, n)$ в шахматном порядке заданными числами $a$ и $b$. Напишите тесты для кода"
      ]
    },
    {
      "cell_type": "code",
      "execution_count": null,
      "metadata": {
        "id": "RWNJYWQGecS6"
      },
      "outputs": [],
      "source": [
        "def chess(m, n, a, b):\n",
        "    if not isinstance(m, int) or not isinstance(n, int):\n",
        "        raise TypeError(\"Количество строк и столбцов должны быть целыми числами.\")\n",
        "\n",
        "    if m <= 0 or n <= 0:\n",
        "        raise ValueError(\"Количество строк и столбцов должны быть положительными числами.\")\n",
        "    \n",
        "    matrix = []\n",
        "    for i in range(m):\n",
        "        row = []\n",
        "        for j in range(n):\n",
        "            if (i + j) % 2 == 0:\n",
        "                row.append(a)\n",
        "            else:\n",
        "                row.append(b)\n",
        "        matrix.append(row)\n",
        "    return matrix\n",
        "\n",
        "# Тесты\n",
        "print(chess(3, 4, 1, 0), [[1, 0, 1, 0], [0, 1, 0, 1], [1, 0, 1, 0]])\n",
        "print(chess(2, 2, 'X', 'O'), [['X', 'O'], ['O', 'X']])\n",
        "print(chess(1, 5, True, False), [[True, False, True, False, True]])\n",
        "print(chess(3, 1, 'a', 'b'), [['a'], ['b'], ['a']])\n",
        "print(chess(2, 3, 5, 10), [[5, 10, 5], [10, 5, 10]])\n",
        "print(chess(1, 1, 7, 8), [[7]])"
      ]
    },
    {
      "cell_type": "markdown",
      "metadata": {
        "id": "-ymXLtTN0vB6"
      },
      "source": [
        "<h1>Задача 6. Напишите функцию, которая отрисовывает прямоугольник с заданными размерами (a, b) на изображении размера (m, n), цвет фона задайте в схеме RGB, как и цвет прямоугольника. Цвета также должны быть параметрами функции. Напишите аналогичную функцию но для овала с полуосями a и b. Напишите тесты для кода.\n",
        "Примечание: уравнение эллипса (границы овала) можно записать как:\n",
        "<h1>$\\frac{(x-x_0)^2}{a^2}+\\frac{(y-y_0)^2}{b^2}=1$"
      ]
    },
    {
      "cell_type": "code",
      "execution_count": 1,
      "metadata": {
        "id": "sNfl1t_kfOF4"
      },
      "outputs": [],
      "source": [
        "import numpy as np\n",
        "import math\n",
        "\n",
        "def draw_rectangle(a, b, m, n, rectangle_color, background_color):\n",
        "    \"\"\"\n",
        "    Рисует прямоугольник на изображении с заданным цветом фона.\n",
        "\n",
        "    Args:\n",
        "        a: Ширина прямоугольника.\n",
        "        b: Высота прямоугольника.\n",
        "        m: Высота изображения.\n",
        "        n: Ширина изображения.\n",
        "        rectangle_color: Цвет прямоугольника (RGB кортеж, например, (255, 0, 0)).\n",
        "        background_color: Цвет фона изображения (RGB кортеж, например, (255, 255, 255)).\n",
        "\n",
        "    Returns:\n",
        "        numpy array, представляющий изображение с нарисованным прямоугольником.\n",
        "    Raises:\n",
        "        TypeError: Если a, b, m или n не являются целыми числами или \n",
        "                    rectangle_color и background_color не являются кортежами.\n",
        "        ValueError: Если a, b, m или n не являются положительными числами или \n",
        "                     длинна кортежа цвета не равна 3.\n",
        "    \"\"\"\n",
        "    if not all(isinstance(arg, int) for arg in [a, b, m, n]):\n",
        "        raise TypeError(\"Ширина, высота прямоугольника и изображения должны быть целыми числами.\")\n",
        "\n",
        "    if a <= 0 or b <= 0 or m <= 0 or n <= 0:\n",
        "      raise ValueError(\"Ширина, высота прямоугольника и изображения должны быть положительными числами.\")\n",
        "    \n",
        "    if not isinstance(rectangle_color, tuple) or not isinstance(background_color, tuple):\n",
        "        raise TypeError(\"Цвета должны быть представлены в виде кортежей.\")\n",
        "    \n",
        "    if len(rectangle_color) != 3 or len(background_color) != 3:\n",
        "          raise ValueError(\"Цвета должны быть представлены в виде RGB-кортежей (длинна кортежа должна быть равна 3).\")\n",
        "\n",
        "\n",
        "    image = np.full((m, n, 3), background_color, dtype=np.uint8)\n",
        "    \n",
        "    x_start = (n - a) // 2\n",
        "    y_start = (m - b) // 2\n",
        "    x_end = x_start + a\n",
        "    y_end = y_start + b\n",
        "    \n",
        "    image[y_start:y_end, x_start:x_end] = rectangle_color\n",
        "    return image\n",
        "\n",
        "\n",
        "def draw_ellipse(a, b, m, n, ellipse_color, background_color):\n",
        "    \"\"\"\n",
        "    Рисует эллипс на изображении с заданным цветом фона.\n",
        "\n",
        "    Args:\n",
        "        a: Горизонтальный радиус эллипса.\n",
        "        b: Вертикальный радиус эллипса.\n",
        "        m: Высота изображения.\n",
        "        n: Ширина изображения.\n",
        "        ellipse_color: Цвет эллипса (RGB кортеж, например, (255, 0, 0)).\n",
        "        background_color: Цвет фона изображения (RGB кортеж, например, (255, 255, 255)).\n",
        "\n",
        "    Returns:\n",
        "        numpy array, представляющий изображение с нарисованным эллипсом.\n",
        "\n",
        "    Raises:\n",
        "      TypeError: Если a, b, m или n не являются целыми числами или\n",
        "                   ellipse_color и background_color не являются кортежами.\n",
        "      ValueError: Если a, b, m или n не являются положительными числами или\n",
        "                   длинна кортежа цвета не равна 3.\n",
        "    \"\"\"\n",
        "    if not all(isinstance(arg, int) for arg in [a, b, m, n]):\n",
        "        raise TypeError(\"Радиусы и размеры изображения должны быть целыми числами.\")\n",
        "\n",
        "    if a <= 0 or b <= 0 or m <= 0 or n <= 0:\n",
        "        raise ValueError(\"Радиусы и размеры изображения должны быть положительными числами.\")\n",
        "\n",
        "    if not isinstance(ellipse_color, tuple) or not isinstance(background_color, tuple):\n",
        "        raise TypeError(\"Цвета должны быть представлены в виде кортежей.\")\n",
        "\n",
        "    if len(ellipse_color) != 3 or len(background_color) != 3:\n",
        "        raise ValueError(\"Цвета должны быть представлены в виде RGB-кортежей (длинна кортежа должна быть равна 3).\")\n",
        "\n",
        "\n",
        "    image = np.full((m, n, 3), background_color, dtype=np.uint8)\n",
        "\n",
        "    center_x = n // 2\n",
        "    center_y = m // 2\n",
        "    \n",
        "    for y in range(m):\n",
        "        for x in range(n):\n",
        "             if ((x - center_x) ** 2) / (a ** 2) + ((y - center_y) ** 2) / (b ** 2) <= 1:\n",
        "                image[y, x] = ellipse_color\n",
        "    return image\n",
        "\n",
        "# Тесты\n",
        "import matplotlib.pyplot as plt\n",
        "\n",
        "# Тесты для draw_rectangle\n",
        "rectangle_img1 = draw_rectangle(100, 50, 200, 300, (255, 0, 0), (255, 255, 255))\n",
        "plt.imshow(rectangle_img1)\n",
        "plt.title(\"Rectangle Test 1\")\n",
        "plt.show()\n",
        "\n",
        "rectangle_img2 = draw_rectangle(50, 100, 150, 150, (0, 255, 0), (0, 0, 0))\n",
        "plt.imshow(rectangle_img2)\n",
        "plt.title(\"Rectangle Test 2\")\n",
        "plt.show()\n",
        "\n",
        "rectangle_img3 = draw_rectangle(1, 1, 5, 5, (0, 0, 255), (200, 200, 200))\n",
        "plt.imshow(rectangle_img3)\n",
        "plt.title(\"Rectangle Test 3\")\n",
        "\n",
        "# Тесты для draw_ellipse\n",
        "ellipse_img1 = draw_ellipse(50, 30, 150, 200, (255, 255, 0), (0, 0, 255))\n",
        "plt.imshow(ellipse_img1)\n",
        "plt.title(\"Ellipse Test 1\")\n",
        "plt.show()\n",
        "\n",
        "ellipse_img2 = draw_ellipse(20, 40, 100, 100, (0, 255, 255), (100, 100, 100))\n",
        "plt.imshow(ellipse_img2)\n",
        "plt.title(\"Ellipse Test 2\")\n",
        "plt.show()\n",
        "\n",
        "ellipse_img3 = draw_ellipse(1, 1, 5, 5, (0, 128, 0), (255, 255, 0))\n",
        "plt.imshow(ellipse_img3)\n",
        "plt.title(\"Ellipse Test 3\")\n",
        "plt.show()\n",
        "plt.show()"
      ]
    },
    {
      "cell_type": "markdown",
      "metadata": {
        "id": "S82c38oz244H"
      },
      "source": [
        "<h1>Задача 7. Дан некий временной ряд. Для данного ряда нужно найти его: математическое ожидание, дисперсию, СКО, найти все локальные максимумы и минимумы (локальный максимум - это точка, которая больше своих соседних точек, а локальный минимум - это точка, которая меньше своих соседей), а также вычислить для данного ряда другой ряд, получаемый методом скользящего среднего с размером окна $p$.\n",
        "<h1>Примечание: метод скользящего среднего подразумевает нахождение среднего из подмножетсва ряда размером $p$"
      ]
    },
    {
      "cell_type": "code",
      "execution_count": null,
      "metadata": {
        "id": "Zb9mIVge5MMt"
      },
      "outputs": [],
      "source": [
        "# Your code goes here"
      ]
    },
    {
      "cell_type": "markdown",
      "metadata": {
        "id": "jPkylmOX5O9n"
      },
      "source": [
        "<h1> Задача 8. Дан некоторый вектор с целочисленными метками классов, напишите функцию, которая выполняет one-hot-encoding для данного вектора\n",
        "<h1> One-hot-encoding - представление, в котором на месте метки некоторого класса стоит 1, в остальных позициях стоит 0. Например для вектора [0, 2, 3, 0] one-hot-encoding выглядит как: [[1, 0, 0, 0], [0, 0, 1, 0], [0, 0, 0, 1], [1, 0, 0, 0]]"
      ]
    },
    {
      "cell_type": "code",
      "execution_count": null,
      "metadata": {
        "id": "Y-jlnZvw56lD"
      },
      "outputs": [],
      "source": [
        "# Your code goes here"
      ]
    }
  ],
  "metadata": {
    "colab": {
      "provenance": []
    },
    "kernelspec": {
      "display_name": "Python 3",
      "name": "python3"
    },
    "language_info": {
      "name": "python"
    }
  },
  "nbformat": 4,
  "nbformat_minor": 0
}
